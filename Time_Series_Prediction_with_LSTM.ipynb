{
  "nbformat": 4,
  "nbformat_minor": 0,
  "metadata": {
    "colab": {
      "provenance": []
    },
    "kernelspec": {
      "name": "python3",
      "display_name": "Python 3"
    },
    "language_info": {
      "name": "python"
    }
  },
  "cells": [
    {
      "cell_type": "markdown",
      "source": [
        "# **Time Series Prediction with LSTM**"
      ],
      "metadata": {
        "id": "Dtt5uOj233bP"
      }
    },
    {
      "cell_type": "markdown",
      "source": [
        "The International Airline Passengers prediction problem.\n",
        "This is a problem where, given a year and a month, the task is to predict the number of international airline passengers in units of 1,000. The data ranges from January 1949 to December 1960, or 12 years, with 144 observations.\n",
        "\n",
        "It propagate through time series values (time steps)\n",
        "\n"
      ],
      "metadata": {
        "id": "_ASxHbf7Ap-X"
      }
    },
    {
      "cell_type": "code",
      "source": [
        "import pandas as pd\n",
        "import matplotlib.pyplot as plt\n",
        "\n",
        "# Load the dataset\n",
        "dataset = pd.read_csv('/content/international-airline-passengers.csv', usecols=[1], engine='python')\n",
        "\n",
        "# Plot the data\n",
        "plt.plot(dataset)\n",
        "plt.show()\n",
        "# It appears like  a trending data "
      ],
      "metadata": {
        "colab": {
          "base_uri": "https://localhost:8080/",
          "height": 265
        },
        "id": "BtaamGkX34u6",
        "outputId": "18789257-3508-49b1-f024-f235399118aa"
      },
      "execution_count": 1,
      "outputs": [
        {
          "output_type": "display_data",
          "data": {
            "text/plain": [
              "<Figure size 432x288 with 1 Axes>"
            ],
            "image/png": "[encoded data removed]"
          },
          "metadata": {
            "needs_background": "light"
          }
        }
      ]
    },
    {
      "cell_type": "markdown",
      "source": [
        "We can also see some periodicity to the dataset that probably corresponding to the Northern Hemisphere vacation period.\n",
        "\n",
        "LSTMs:The Long Short-Term Memory network, or LSTM network, is a recurrent neural network that is trained using Backpropagation Through Time and overcomes the vanishing gradient problem.\n",
        "\n",
        "\n",
        "As such, it can be used to create large recurrent networks that in turn can be used to address difficult sequence problems in machine learning and achieve state-of-the-art results.\n",
        "\n",
        "Instead of neurons, LSTM networks have memory blocks that are connected through layers.\n",
        "\n",
        "\n",
        "A block has components that make it smarter than a classical neuron and a memory for recent sequences. A block contains gates that manage the block’s state and output. A block operates upon an input sequence and each gate within a block uses the sigmoid activation units to control whether they are triggered or not, making the change of state and addition of information flowing through the block conditional.\n",
        "\n",
        "each LSTM unit has the following :\n",
        "* Forget Gate: conditionally decides what information to throw away from the block.\n",
        "* Input Gate: conditionally decides which values from the input to update the memory state.\n",
        "* Output Gate: conditionally decides what to output based on input and the memory of the block"
      ],
      "metadata": {
        "id": "x-Fx5fHFBG9P"
      }
    },
    {
      "cell_type": "markdown",
      "source": [
        "given the number of passengers (in units of thousands) this month, what is the number of passengers next month?\n",
        "\n",
        "so here we are going to introduce a prediction problem "
      ],
      "metadata": {
        "id": "Clqkx3X0BoH1"
      }
    },
    {
      "cell_type": "code",
      "source": [
        "import numpy\n",
        "import matplotlib.pyplot as plt\n",
        "import pandas\n",
        "import math\n",
        "from keras.models import Sequential\n",
        "from keras.layers import Dense\n",
        "from keras.layers import LSTM\n",
        "from sklearn.preprocessing import MinMaxScaler\n",
        "from sklearn.metrics import mean_squared_error\n",
        "\n",
        "# fix random seed for reproducibility\n",
        "numpy.random.seed(7)\n",
        "\n",
        "\n",
        "# load the dataset\n",
        "dataframe = pandas.read_csv('/content/international-airline-passengers.csv', usecols=[1], engine='python')\n",
        "dataset = dataframe.values\n",
        "dataset = dataset.astype('float32')"
      ],
      "metadata": {
        "id": "Tt-jlgtOAecz"
      },
      "execution_count": 3,
      "outputs": []
    },
    {
      "cell_type": "markdown",
      "source": [
        "LSTMs are sensitive to the scale of the input data, specifically when the sigmoid (default) or tanh activation functions are used. It can be a good practice to rescale the data to the range of 0-to-1, also called normalizing. We can easily normalize the dataset using the MinMaxScaler preprocessing class from the scikit-learn library."
      ],
      "metadata": {
        "id": "EiZwOUZkFkwo"
      }
    },
    {
      "cell_type": "code",
      "source": [
        "#normalize the dataset\n",
        "scaler = MinMaxScaler(feature_range=(0, 1))\n",
        "dataset = scaler.fit_transform(dataset)\n",
        "\n"
      ],
      "metadata": {
        "id": "ra07VUjLCPuJ"
      },
      "execution_count": 4,
      "outputs": []
    },
    {
      "cell_type": "markdown",
      "source": [
        "With time series data, the sequence of values is important. A simple method that we can use is to split the ordered dataset into train and test datasets. The code below calculates the index of the split point and separates the data into the training datasets with 67% of the observations that we can use to train our model, leaving the remaining 33% for testing the model."
      ],
      "metadata": {
        "id": "GTF24vSuCSXP"
      }
    },
    {
      "cell_type": "code",
      "source": [
        "# split into train and test sets\n",
        "train_size = int(len(dataset) * 0.67)\n",
        "test_size = len(dataset) - train_size\n",
        "train, test = dataset[0:train_size,:], dataset[train_size:len(dataset),:]\n",
        "print(len(train), len(test))"
      ],
      "metadata": {
        "colab": {
          "base_uri": "https://localhost:8080/"
        },
        "id": "5Vh-FYbhCxYu",
        "outputId": "b4e44435-33c6-4f9a-9b40-0aa366a3a196"
      },
      "execution_count": 5,
      "outputs": [
        {
          "output_type": "stream",
          "name": "stdout",
          "text": [
            "96 48\n"
          ]
        }
      ]
    },
    {
      "cell_type": "markdown",
      "source": [
        "function takes two arguments: the dataset, which is a NumPy array that we want to convert into a dataset, and the look_back, which is the number of previous time steps to use as input variables to predict the next time period — in this case defaulted to 1.\n",
        "This default will create a dataset where X is the number of passengers at a given time (t) and Y is the number of passengers at the next time (t + 1)."
      ],
      "metadata": {
        "id": "oKtSfw7qC1zB"
      }
    },
    {
      "cell_type": "code",
      "source": [
        "# convert an array of values into a dataset matrix\\n\",\n",
        "def create_dataset(dataset, look_back=1):\n",
        "  dataX, dataY = [], []\n",
        "  for i in range(len(dataset)-look_back-1):\n",
        "    a = dataset[i:(i+look_back), 0]\n",
        "    dataX.append(a)\n",
        "    dataY.append(dataset[i + look_back, 0])\n",
        "  return numpy.array(dataX), numpy.array(dataY)\n"
      ],
      "metadata": {
        "id": "yIuNCvZ_DBSU"
      },
      "execution_count": 6,
      "outputs": []
    },
    {
      "cell_type": "markdown",
      "source": [
        " compare these first 5 rows to the original dataset sample listed in the previous section, you can see the X=t and Y=t+1 pattern in the numbers.\"\n"
      ],
      "metadata": {
        "id": "rYGXrZzzDEsj"
      }
    },
    {
      "cell_type": "code",
      "source": [
        "# reshape into X=t and Y=t+1\n",
        "look_back = 1\n",
        "trainX, trainY = create_dataset(train, look_back)\n",
        "testX, testY = create_dataset(test, look_back)\n"
      ],
      "metadata": {
        "id": "LtsuEACHDHX5"
      },
      "execution_count": 7,
      "outputs": []
    },
    {
      "cell_type": "markdown",
      "source": [
        "The LSTM network expects the input data (X) to be provided with a specific array structure in the form of: [samples, time steps, features].\n",
        " \n",
        "Currently, our data is in the form: [samples, features] and we are framing the problem as one time step for each sample. We can transform the prepared train and test input data into the expected structure using numpy.reshape() as follows:"
      ],
      "metadata": {
        "id": "J6WgZ61iDJr8"
      }
    },
    {
      "cell_type": "code",
      "source": [
        "# reshape input to be [samples, time steps, features]\n",
        "trainX = numpy.reshape(trainX, (trainX.shape[0], 1, trainX.shape[1]))\n",
        "testX = numpy.reshape(testX, (testX.shape[0], 1, testX.shape[1]))\n"
      ],
      "metadata": {
        "id": "KQl94jyADSzr"
      },
      "execution_count": 8,
      "outputs": []
    },
    {
      "cell_type": "markdown",
      "source": [
        "We are now ready to design and fit our LSTM network for this problem.The network has a visible layer with 1 input, a hidden layer with 4 LSTM blocks or neurons, and an output layer that makes a single value prediction. The default sigmoid activation function is used for the LSTM blocks. The network is trained for 100 epochs and a batch size of 1 is used."
      ],
      "metadata": {
        "id": "4A-SXEFqDTaz"
      }
    },
    {
      "cell_type": "code",
      "source": [
        "# create and fit the LSTM network\n",
        "model = Sequential()\n",
        "model.add(LSTM(4, input_shape=(1, look_back)))\n",
        "model.add(Dense(1))\n",
        "model.compile(loss='mean_squared_error', optimizer='adam')\n",
        "model.fit(trainX, trainY, epochs=100, batch_size=1, verbose=2)\n",
        " "
      ],
      "metadata": {
        "colab": {
          "base_uri": "https://localhost:8080/"
        },
        "id": "9nzcsyIMDYqp",
        "outputId": "8a677aa5-f095-495f-bf61-65eab33e2d7d"
      },
      "execution_count": 10,
      "outputs": [
        {
          "output_type": "stream",
          "name": "stdout",
          "text": [
            "Epoch 1/100\n",
            "94/94 - 2s - loss: 0.0432 - 2s/epoch - 24ms/step\n",
            "Epoch 2/100\n",
            "94/94 - 0s - loss: 0.0214 - 219ms/epoch - 2ms/step\n",
            "Epoch 3/100\n",
            "94/94 - 0s - loss: 0.0154 - 219ms/epoch - 2ms/step\n",
            "Epoch 4/100\n",
            "94/94 - 0s - loss: 0.0139 - 204ms/epoch - 2ms/step\n",
            "Epoch 5/100\n",
            "94/94 - 0s - loss: 0.0131 - 215ms/epoch - 2ms/step\n",
            "Epoch 6/100\n",
            "94/94 - 0s - loss: 0.0122 - 221ms/epoch - 2ms/step\n",
            "Epoch 7/100\n",
            "94/94 - 0s - loss: 0.0114 - 212ms/epoch - 2ms/step\n",
            "Epoch 8/100\n",
            "94/94 - 0s - loss: 0.0105 - 191ms/epoch - 2ms/step\n",
            "Epoch 9/100\n",
            "94/94 - 0s - loss: 0.0095 - 206ms/epoch - 2ms/step\n",
            "Epoch 10/100\n",
            "94/94 - 0s - loss: 0.0087 - 209ms/epoch - 2ms/step\n",
            "Epoch 11/100\n",
            "94/94 - 0s - loss: 0.0079 - 213ms/epoch - 2ms/step\n",
            "Epoch 12/100\n",
            "94/94 - 0s - loss: 0.0068 - 207ms/epoch - 2ms/step\n",
            "Epoch 13/100\n",
            "94/94 - 0s - loss: 0.0059 - 230ms/epoch - 2ms/step\n",
            "Epoch 14/100\n",
            "94/94 - 0s - loss: 0.0052 - 209ms/epoch - 2ms/step\n",
            "Epoch 15/100\n",
            "94/94 - 0s - loss: 0.0044 - 220ms/epoch - 2ms/step\n",
            "Epoch 16/100\n",
            "94/94 - 0s - loss: 0.0037 - 204ms/epoch - 2ms/step\n",
            "Epoch 17/100\n",
            "94/94 - 0s - loss: 0.0032 - 229ms/epoch - 2ms/step\n",
            "Epoch 18/100\n",
            "94/94 - 0s - loss: 0.0028 - 204ms/epoch - 2ms/step\n",
            "Epoch 19/100\n",
            "94/94 - 0s - loss: 0.0025 - 199ms/epoch - 2ms/step\n",
            "Epoch 20/100\n",
            "94/94 - 0s - loss: 0.0023 - 219ms/epoch - 2ms/step\n",
            "Epoch 21/100\n",
            "94/94 - 0s - loss: 0.0022 - 234ms/epoch - 2ms/step\n",
            "Epoch 22/100\n",
            "94/94 - 0s - loss: 0.0022 - 202ms/epoch - 2ms/step\n",
            "Epoch 23/100\n",
            "94/94 - 0s - loss: 0.0022 - 194ms/epoch - 2ms/step\n",
            "Epoch 24/100\n",
            "94/94 - 0s - loss: 0.0021 - 204ms/epoch - 2ms/step\n",
            "Epoch 25/100\n",
            "94/94 - 0s - loss: 0.0021 - 229ms/epoch - 2ms/step\n",
            "Epoch 26/100\n",
            "94/94 - 0s - loss: 0.0021 - 205ms/epoch - 2ms/step\n",
            "Epoch 27/100\n",
            "94/94 - 0s - loss: 0.0021 - 216ms/epoch - 2ms/step\n",
            "Epoch 28/100\n",
            "94/94 - 0s - loss: 0.0021 - 220ms/epoch - 2ms/step\n",
            "Epoch 29/100\n",
            "94/94 - 0s - loss: 0.0021 - 233ms/epoch - 2ms/step\n",
            "Epoch 30/100\n",
            "94/94 - 0s - loss: 0.0020 - 228ms/epoch - 2ms/step\n",
            "Epoch 31/100\n",
            "94/94 - 0s - loss: 0.0021 - 393ms/epoch - 4ms/step\n",
            "Epoch 32/100\n",
            "94/94 - 0s - loss: 0.0020 - 200ms/epoch - 2ms/step\n",
            "Epoch 33/100\n",
            "94/94 - 0s - loss: 0.0021 - 237ms/epoch - 3ms/step\n",
            "Epoch 34/100\n",
            "94/94 - 0s - loss: 0.0021 - 227ms/epoch - 2ms/step\n",
            "Epoch 35/100\n",
            "94/94 - 0s - loss: 0.0020 - 237ms/epoch - 3ms/step\n",
            "Epoch 36/100\n",
            "94/94 - 0s - loss: 0.0021 - 236ms/epoch - 3ms/step\n",
            "Epoch 37/100\n",
            "94/94 - 0s - loss: 0.0021 - 315ms/epoch - 3ms/step\n",
            "Epoch 38/100\n",
            "94/94 - 0s - loss: 0.0021 - 349ms/epoch - 4ms/step\n",
            "Epoch 39/100\n",
            "94/94 - 0s - loss: 0.0020 - 329ms/epoch - 3ms/step\n",
            "Epoch 40/100\n",
            "94/94 - 0s - loss: 0.0022 - 347ms/epoch - 4ms/step\n",
            "Epoch 41/100\n",
            "94/94 - 0s - loss: 0.0021 - 337ms/epoch - 4ms/step\n",
            "Epoch 42/100\n",
            "94/94 - 0s - loss: 0.0020 - 328ms/epoch - 3ms/step\n",
            "Epoch 43/100\n",
            "94/94 - 0s - loss: 0.0021 - 308ms/epoch - 3ms/step\n",
            "Epoch 44/100\n",
            "94/94 - 0s - loss: 0.0022 - 279ms/epoch - 3ms/step\n",
            "Epoch 45/100\n",
            "94/94 - 0s - loss: 0.0021 - 194ms/epoch - 2ms/step\n",
            "Epoch 46/100\n",
            "94/94 - 0s - loss: 0.0020 - 208ms/epoch - 2ms/step\n",
            "Epoch 47/100\n",
            "94/94 - 0s - loss: 0.0022 - 236ms/epoch - 3ms/step\n",
            "Epoch 48/100\n",
            "94/94 - 0s - loss: 0.0021 - 204ms/epoch - 2ms/step\n",
            "Epoch 49/100\n",
            "94/94 - 0s - loss: 0.0021 - 212ms/epoch - 2ms/step\n",
            "Epoch 50/100\n",
            "94/94 - 0s - loss: 0.0021 - 226ms/epoch - 2ms/step\n",
            "Epoch 51/100\n",
            "94/94 - 0s - loss: 0.0020 - 221ms/epoch - 2ms/step\n",
            "Epoch 52/100\n",
            "94/94 - 0s - loss: 0.0020 - 246ms/epoch - 3ms/step\n",
            "Epoch 53/100\n",
            "94/94 - 0s - loss: 0.0021 - 401ms/epoch - 4ms/step\n",
            "Epoch 54/100\n",
            "94/94 - 0s - loss: 0.0021 - 365ms/epoch - 4ms/step\n",
            "Epoch 55/100\n",
            "94/94 - 0s - loss: 0.0021 - 400ms/epoch - 4ms/step\n",
            "Epoch 56/100\n",
            "94/94 - 0s - loss: 0.0020 - 334ms/epoch - 4ms/step\n",
            "Epoch 57/100\n",
            "94/94 - 0s - loss: 0.0021 - 328ms/epoch - 3ms/step\n",
            "Epoch 58/100\n",
            "94/94 - 0s - loss: 0.0021 - 340ms/epoch - 4ms/step\n",
            "Epoch 59/100\n",
            "94/94 - 0s - loss: 0.0021 - 364ms/epoch - 4ms/step\n",
            "Epoch 60/100\n",
            "94/94 - 0s - loss: 0.0021 - 269ms/epoch - 3ms/step\n",
            "Epoch 61/100\n",
            "94/94 - 0s - loss: 0.0020 - 198ms/epoch - 2ms/step\n",
            "Epoch 62/100\n",
            "94/94 - 0s - loss: 0.0021 - 210ms/epoch - 2ms/step\n",
            "Epoch 63/100\n",
            "94/94 - 0s - loss: 0.0021 - 202ms/epoch - 2ms/step\n",
            "Epoch 64/100\n",
            "94/94 - 0s - loss: 0.0020 - 193ms/epoch - 2ms/step\n",
            "Epoch 65/100\n",
            "94/94 - 0s - loss: 0.0021 - 198ms/epoch - 2ms/step\n",
            "Epoch 66/100\n",
            "94/94 - 0s - loss: 0.0021 - 210ms/epoch - 2ms/step\n",
            "Epoch 67/100\n",
            "94/94 - 0s - loss: 0.0021 - 209ms/epoch - 2ms/step\n",
            "Epoch 68/100\n",
            "94/94 - 0s - loss: 0.0021 - 202ms/epoch - 2ms/step\n",
            "Epoch 69/100\n",
            "94/94 - 0s - loss: 0.0020 - 225ms/epoch - 2ms/step\n",
            "Epoch 70/100\n",
            "94/94 - 0s - loss: 0.0020 - 211ms/epoch - 2ms/step\n",
            "Epoch 71/100\n",
            "94/94 - 0s - loss: 0.0021 - 200ms/epoch - 2ms/step\n",
            "Epoch 72/100\n",
            "94/94 - 0s - loss: 0.0020 - 223ms/epoch - 2ms/step\n",
            "Epoch 73/100\n",
            "94/94 - 0s - loss: 0.0021 - 201ms/epoch - 2ms/step\n",
            "Epoch 74/100\n",
            "94/94 - 0s - loss: 0.0021 - 188ms/epoch - 2ms/step\n",
            "Epoch 75/100\n",
            "94/94 - 0s - loss: 0.0020 - 195ms/epoch - 2ms/step\n",
            "Epoch 76/100\n",
            "94/94 - 0s - loss: 0.0020 - 221ms/epoch - 2ms/step\n",
            "Epoch 77/100\n",
            "94/94 - 0s - loss: 0.0020 - 209ms/epoch - 2ms/step\n",
            "Epoch 78/100\n",
            "94/94 - 0s - loss: 0.0019 - 193ms/epoch - 2ms/step\n",
            "Epoch 79/100\n",
            "94/94 - 0s - loss: 0.0021 - 208ms/epoch - 2ms/step\n",
            "Epoch 80/100\n",
            "94/94 - 0s - loss: 0.0020 - 202ms/epoch - 2ms/step\n",
            "Epoch 81/100\n",
            "94/94 - 0s - loss: 0.0020 - 204ms/epoch - 2ms/step\n",
            "Epoch 82/100\n",
            "94/94 - 0s - loss: 0.0022 - 235ms/epoch - 2ms/step\n",
            "Epoch 83/100\n",
            "94/94 - 0s - loss: 0.0021 - 219ms/epoch - 2ms/step\n",
            "Epoch 84/100\n",
            "94/94 - 1s - loss: 0.0020 - 869ms/epoch - 9ms/step\n",
            "Epoch 85/100\n",
            "94/94 - 0s - loss: 0.0020 - 477ms/epoch - 5ms/step\n",
            "Epoch 86/100\n",
            "94/94 - 0s - loss: 0.0021 - 309ms/epoch - 3ms/step\n",
            "Epoch 87/100\n",
            "94/94 - 0s - loss: 0.0020 - 351ms/epoch - 4ms/step\n",
            "Epoch 88/100\n",
            "94/94 - 0s - loss: 0.0020 - 329ms/epoch - 4ms/step\n",
            "Epoch 89/100\n",
            "94/94 - 0s - loss: 0.0020 - 345ms/epoch - 4ms/step\n",
            "Epoch 90/100\n",
            "94/94 - 0s - loss: 0.0020 - 337ms/epoch - 4ms/step\n",
            "Epoch 91/100\n",
            "94/94 - 0s - loss: 0.0021 - 234ms/epoch - 2ms/step\n",
            "Epoch 92/100\n",
            "94/94 - 0s - loss: 0.0020 - 222ms/epoch - 2ms/step\n",
            "Epoch 93/100\n",
            "94/94 - 0s - loss: 0.0020 - 232ms/epoch - 2ms/step\n",
            "Epoch 94/100\n",
            "94/94 - 0s - loss: 0.0021 - 220ms/epoch - 2ms/step\n",
            "Epoch 95/100\n",
            "94/94 - 0s - loss: 0.0020 - 206ms/epoch - 2ms/step\n",
            "Epoch 96/100\n",
            "94/94 - 0s - loss: 0.0020 - 199ms/epoch - 2ms/step\n",
            "Epoch 97/100\n",
            "94/94 - 0s - loss: 0.0020 - 207ms/epoch - 2ms/step\n",
            "Epoch 98/100\n",
            "94/94 - 0s - loss: 0.0020 - 234ms/epoch - 2ms/step\n",
            "Epoch 99/100\n",
            "94/94 - 0s - loss: 0.0020 - 229ms/epoch - 2ms/step\n",
            "Epoch 100/100\n",
            "94/94 - 0s - loss: 0.0021 - 203ms/epoch - 2ms/step\n"
          ]
        },
        {
          "output_type": "execute_result",
          "data": {
            "text/plain": [
              "<keras.callbacks.History at 0x7f4113f6d940>"
            ]
          },
          "metadata": {},
          "execution_count": 10
        }
      ]
    },
    {
      "cell_type": "markdown",
      "source": [
        "we can estimate the performance of the model on the train and test datasets. This will give us a point of comparison for new models.\n",
        "\n",
        "Note that we invert the predictions before calculating error scores to ensure that performance is reported in the same units as the original data (thousands of passengers per month).\n"
      ],
      "metadata": {
        "id": "RMMxDWWIDhnT"
      }
    },
    {
      "cell_type": "code",
      "source": [
        "# make predictions\n",
        "trainPredict = model.predict(trainX)\n",
        "testPredict = model.predict(testX)\n",
        "# invert predictions\n",
        "trainPredict = scaler.inverse_transform(trainPredict)\n",
        "trainY = scaler.inverse_transform([trainY])\n",
        "testPredict = scaler.inverse_transform(testPredict)\n",
        "testY = scaler.inverse_transform([testY])\n",
        "# calculate root mean squared error\n",
        "trainScore = math.sqrt(mean_squared_error(trainY[0], trainPredict[:,0]))\n",
        "print('Train Score: %.2f RMSE' % (trainScore))\n",
        "testScore = math.sqrt(mean_squared_error(testY[0], testPredict[:,0]))\n",
        "print('Test Score: %.2f RMSE' % (testScore))\n"
      ],
      "metadata": {
        "colab": {
          "base_uri": "https://localhost:8080/"
        },
        "id": "KymIocKuDq9G",
        "outputId": "f0069fdd-14c1-4185-d4bc-f27c210799cb"
      },
      "execution_count": 11,
      "outputs": [
        {
          "output_type": "stream",
          "name": "stdout",
          "text": [
            "3/3 [==============================] - 1s 5ms/step\n",
            "2/2 [==============================] - 0s 7ms/step\n",
            "Train Score: 23.13 RMSE\n",
            "Test Score: 48.47 RMSE\n"
          ]
        }
      ]
    },
    {
      "cell_type": "markdown",
      "source": [
        "we can generate predictions using the model for both the train and test dataset to get a visual indication of the skill of the model.\n",
        "\n",
        "Because of how the dataset was prepared, we must shift the predictions so that they align on the x-axis with the original dataset. Once prepared, the data is plotted, showing the original dataset in blue, the predictions for the training dataset in green, and the predictions on the unseen test dataset in red.\n",
        " "
      ],
      "metadata": {
        "id": "p0JZXRJGD1mN"
      }
    },
    {
      "cell_type": "code",
      "source": [
        "# shift train predictions for plotting\n",
        "trainPredictPlot = numpy.empty_like(dataset)\n",
        "trainPredictPlot[:, :] = numpy.nan\n",
        "trainPredictPlot[look_back:len(trainPredict)+look_back, :] = trainPredict\n",
        "# shift test predictions for plotting\n",
        "testPredictPlot = numpy.empty_like(dataset)\n",
        "testPredictPlot[:, :] = numpy.nan\n",
        "testPredictPlot[len(trainPredict)+(look_back*2)+1:len(dataset)-1, :] = testPredict\n",
        "# plot baseline and predictions\n",
        "plt.plot(scaler.inverse_transform(dataset))\n",
        "plt.plot(trainPredictPlot)\n",
        "plt.plot(testPredictPlot)\n",
        "plt.show()\n"
      ],
      "metadata": {
        "colab": {
          "base_uri": "https://localhost:8080/",
          "height": 265
        },
        "id": "H7k4GFVpD7Gu",
        "outputId": "50204fd8-5c27-4a5d-ac98-09fbe6d2467e"
      },
      "execution_count": 12,
      "outputs": [
        {
          "output_type": "display_data",
          "data": {
            "text/plain": [
              "<Figure size 432x288 with 1 Axes>"
            ],
            "image/png": "[encoded data removed]"
          },
          "metadata": {
            "needs_background": "light"
          }
        }
      ]
    },
    {
      "cell_type": "markdown",
      "source": [
        "**LSTM for Regression Using the Window Method**\n",
        "\n",
        "\n",
        "We can also phrase the problem so that multiple, recent time steps can be used to make the prediction for the next time step.\"\n",
        "\n",
        "called a window, and the size of the window is a parameter that can be tuned for each problem.\n",
        "given the current time (t) we want to predict the value at the next time in the sequence (t+1), we can use the current time (t), as well as the two prior times (t-1 and t-2) as input variables.\n",
        "When phrased as a regression problem, the input variables are t-2, t-1, t and the output variable is t+1.\n",
        "create_dataset() function we created in the previous section allows us to create this formulation of the time series problem by increasing the look_back argument from 1 to 3.\"\n",
        " \n",
        "![alt text](https://s3-ap-south-1.amazonaws.com/av-blog-media/wp-content/uploads/2018/09/mts-768x432.jpg)\"\n",
        " "
      ],
      "metadata": {
        "id": "UOw8SYpTECnI"
      }
    },
    {
      "cell_type": "code",
      "source": [
        " # LSTM for international airline passengers problem with window regression framing\n",
        " import numpy \n",
        " import matplotlib.pyplot as plt\n",
        " from pandas import read_csv\n",
        " import math\n",
        " from keras.models import Sequential\n",
        " from keras.layers import Dense\n",
        " from keras.layers import LSTM\n",
        " from sklearn.preprocessing import MinMaxScaler\n",
        " from sklearn.metrics import mean_squared_error\n",
        " # convert an array of values into a dataset matrix\n",
        " def create_dataset(dataset, look_back=1):\n",
        "   dataX, dataY = [], []\n",
        "   for i in range(len(dataset)-look_back-1):\n",
        "     a = dataset[i:(i+look_back), 0]\n",
        "     dataX.append(a)\n",
        "     dataY.append(dataset[i + look_back, 0])\n",
        "   return numpy.array(dataX), numpy.array(dataY)\n",
        "# fix random seed for reproducibility\n",
        "numpy.random.seed(7)\n",
        "# load the dataset\n",
        "dataframe = read_csv('/content/international-airline-passengers.csv', usecols=[1], engine='python')\n",
        "dataset = dataframe.values\n",
        "dataset = dataset.astype('float32')\n",
        "# normalize the dataset\n",
        "scaler = MinMaxScaler(feature_range=(0, 1))\n",
        "dataset = scaler.fit_transform(dataset)\n",
        "# split into train and test sets\n",
        "train_size = int(len(dataset) * 0.67)\n",
        "test_size = len(dataset) - train_size\n",
        "train, test = dataset[0:train_size,:], dataset[train_size:len(dataset),:]\n",
        "# reshape into X=t and Y=t+1\n",
        "look_back = 3\n",
        "trainX, trainY = create_dataset(train, look_back)\n",
        "testX, testY = create_dataset(test, look_back)\n",
        "# reshape input to be [samples, time steps, features]\n",
        "trainX = numpy.reshape(trainX, (trainX.shape[0], 1, trainX.shape[1]))\n",
        "testX = numpy.reshape(testX, (testX.shape[0], 1, testX.shape[1]))\n",
        "# create and fit the LSTM network\n",
        "model = Sequential()\n",
        "model.add(LSTM(4, input_shape=(1, look_back)))\n",
        "model.add(Dense(1))\n",
        "model.compile(loss='mean_squared_error', optimizer='adam')\n",
        "model.fit(trainX, trainY, epochs=100, batch_size=1, verbose=2)\n",
        "# make predictions\n",
        "trainPredict = model.predict(trainX)\n",
        "testPredict = model.predict(testX)\n",
        "# invert predictions\n",
        "trainPredict = scaler.inverse_transform(trainPredict)\n",
        "\n",
        "trainY = scaler.inverse_transform([trainY])\n",
        "testPredict = scaler.inverse_transform(testPredict)\n",
        "testY = scaler.inverse_transform([testY])\n",
        "# calculate root mean squared error\n",
        "trainScore = math.sqrt(mean_squared_error(trainY[0], trainPredict[:,0]))\n",
        "print('Train Score: %.2f RMSE' % (trainScore))\n",
        "testScore = math.sqrt(mean_squared_error(testY[0], testPredict[:,0]))\n",
        "print('Test Score: %.2f RMSE' % (testScore))\n",
        "# shift train predictions for plotting\n",
        "trainPredictPlot = numpy.empty_like(dataset)\n",
        "trainPredictPlot[:, :] = numpy.nan\n",
        "trainPredictPlot[look_back:len(trainPredict)+look_back, :] = trainPredict\n",
        "# shift test predictions for plotting\n",
        "testPredictPlot = numpy.empty_like(dataset)\n",
        "testPredictPlot[:, :] = numpy.nan\n",
        "testPredictPlot[len(trainPredict)+(look_back*2)+1:len(dataset)-1, :] = testPredict\n",
        "# plot baseline and predictions\n",
        "plt.plot(scaler.inverse_transform(dataset))\n",
        "plt.plot(trainPredictPlot)\n",
        "plt.plot(testPredictPlot)\n",
        "plt.show()\n",
        "\n"
      ],
      "metadata": {
        "colab": {
          "base_uri": "https://localhost:8080/",
          "height": 1000
        },
        "id": "AozMVQ_SEXJp",
        "outputId": "b0f2197f-aea6-4dbb-e430-bb7c91e2088e"
      },
      "execution_count": 14,
      "outputs": [
        {
          "output_type": "stream",
          "name": "stdout",
          "text": [
            "Epoch 1/100\n",
            "92/92 - 5s - loss: 0.0218 - 5s/epoch - 57ms/step\n",
            "Epoch 2/100\n",
            "92/92 - 0s - loss: 0.0091 - 374ms/epoch - 4ms/step\n",
            "Epoch 3/100\n",
            "92/92 - 0s - loss: 0.0073 - 281ms/epoch - 3ms/step\n",
            "Epoch 4/100\n",
            "92/92 - 0s - loss: 0.0067 - 223ms/epoch - 2ms/step\n",
            "Epoch 5/100\n",
            "92/92 - 0s - loss: 0.0060 - 199ms/epoch - 2ms/step\n",
            "Epoch 6/100\n",
            "92/92 - 0s - loss: 0.0055 - 202ms/epoch - 2ms/step\n",
            "Epoch 7/100\n",
            "92/92 - 0s - loss: 0.0052 - 202ms/epoch - 2ms/step\n",
            "Epoch 8/100\n",
            "92/92 - 0s - loss: 0.0048 - 192ms/epoch - 2ms/step\n",
            "Epoch 9/100\n",
            "92/92 - 0s - loss: 0.0046 - 210ms/epoch - 2ms/step\n",
            "Epoch 10/100\n",
            "92/92 - 0s - loss: 0.0045 - 227ms/epoch - 2ms/step\n",
            "Epoch 11/100\n",
            "92/92 - 0s - loss: 0.0043 - 201ms/epoch - 2ms/step\n",
            "Epoch 12/100\n",
            "92/92 - 0s - loss: 0.0043 - 193ms/epoch - 2ms/step\n",
            "Epoch 13/100\n",
            "92/92 - 0s - loss: 0.0042 - 215ms/epoch - 2ms/step\n",
            "Epoch 14/100\n",
            "92/92 - 0s - loss: 0.0041 - 209ms/epoch - 2ms/step\n",
            "Epoch 15/100\n",
            "92/92 - 0s - loss: 0.0041 - 212ms/epoch - 2ms/step\n",
            "Epoch 16/100\n",
            "92/92 - 0s - loss: 0.0041 - 221ms/epoch - 2ms/step\n",
            "Epoch 17/100\n",
            "92/92 - 0s - loss: 0.0040 - 189ms/epoch - 2ms/step\n",
            "Epoch 18/100\n",
            "92/92 - 0s - loss: 0.0039 - 208ms/epoch - 2ms/step\n",
            "Epoch 19/100\n",
            "92/92 - 0s - loss: 0.0039 - 190ms/epoch - 2ms/step\n",
            "Epoch 20/100\n",
            "92/92 - 0s - loss: 0.0038 - 180ms/epoch - 2ms/step\n",
            "Epoch 21/100\n",
            "92/92 - 0s - loss: 0.0038 - 184ms/epoch - 2ms/step\n",
            "Epoch 22/100\n",
            "92/92 - 0s - loss: 0.0037 - 182ms/epoch - 2ms/step\n",
            "Epoch 23/100\n",
            "92/92 - 0s - loss: 0.0038 - 215ms/epoch - 2ms/step\n",
            "Epoch 24/100\n",
            "92/92 - 0s - loss: 0.0037 - 195ms/epoch - 2ms/step\n",
            "Epoch 25/100\n",
            "92/92 - 0s - loss: 0.0037 - 198ms/epoch - 2ms/step\n",
            "Epoch 26/100\n",
            "92/92 - 0s - loss: 0.0037 - 208ms/epoch - 2ms/step\n",
            "Epoch 27/100\n",
            "92/92 - 0s - loss: 0.0036 - 184ms/epoch - 2ms/step\n",
            "Epoch 28/100\n",
            "92/92 - 0s - loss: 0.0035 - 220ms/epoch - 2ms/step\n",
            "Epoch 29/100\n",
            "92/92 - 0s - loss: 0.0035 - 207ms/epoch - 2ms/step\n",
            "Epoch 30/100\n",
            "92/92 - 0s - loss: 0.0035 - 198ms/epoch - 2ms/step\n",
            "Epoch 31/100\n",
            "92/92 - 0s - loss: 0.0034 - 192ms/epoch - 2ms/step\n",
            "Epoch 32/100\n",
            "92/92 - 0s - loss: 0.0034 - 198ms/epoch - 2ms/step\n",
            "Epoch 33/100\n",
            "92/92 - 0s - loss: 0.0033 - 210ms/epoch - 2ms/step\n",
            "Epoch 34/100\n",
            "92/92 - 0s - loss: 0.0033 - 196ms/epoch - 2ms/step\n",
            "Epoch 35/100\n",
            "92/92 - 0s - loss: 0.0033 - 207ms/epoch - 2ms/step\n",
            "Epoch 36/100\n",
            "92/92 - 0s - loss: 0.0033 - 324ms/epoch - 4ms/step\n",
            "Epoch 37/100\n",
            "92/92 - 0s - loss: 0.0032 - 243ms/epoch - 3ms/step\n",
            "Epoch 38/100\n",
            "92/92 - 0s - loss: 0.0032 - 190ms/epoch - 2ms/step\n",
            "Epoch 39/100\n",
            "92/92 - 0s - loss: 0.0032 - 192ms/epoch - 2ms/step\n",
            "Epoch 40/100\n",
            "92/92 - 0s - loss: 0.0031 - 195ms/epoch - 2ms/step\n",
            "Epoch 41/100\n",
            "92/92 - 0s - loss: 0.0031 - 179ms/epoch - 2ms/step\n",
            "Epoch 42/100\n",
            "92/92 - 0s - loss: 0.0032 - 194ms/epoch - 2ms/step\n",
            "Epoch 43/100\n",
            "92/92 - 0s - loss: 0.0031 - 188ms/epoch - 2ms/step\n",
            "Epoch 44/100\n",
            "92/92 - 0s - loss: 0.0031 - 209ms/epoch - 2ms/step\n",
            "Epoch 45/100\n",
            "92/92 - 0s - loss: 0.0030 - 207ms/epoch - 2ms/step\n",
            "Epoch 46/100\n",
            "92/92 - 0s - loss: 0.0030 - 186ms/epoch - 2ms/step\n",
            "Epoch 47/100\n",
            "92/92 - 0s - loss: 0.0030 - 220ms/epoch - 2ms/step\n",
            "Epoch 48/100\n",
            "92/92 - 0s - loss: 0.0030 - 204ms/epoch - 2ms/step\n",
            "Epoch 49/100\n",
            "92/92 - 0s - loss: 0.0030 - 217ms/epoch - 2ms/step\n",
            "Epoch 50/100\n",
            "92/92 - 0s - loss: 0.0029 - 200ms/epoch - 2ms/step\n",
            "Epoch 51/100\n",
            "92/92 - 0s - loss: 0.0028 - 338ms/epoch - 4ms/step\n",
            "Epoch 52/100\n",
            "92/92 - 0s - loss: 0.0028 - 335ms/epoch - 4ms/step\n",
            "Epoch 53/100\n",
            "92/92 - 0s - loss: 0.0028 - 337ms/epoch - 4ms/step\n",
            "Epoch 54/100\n",
            "92/92 - 0s - loss: 0.0027 - 317ms/epoch - 3ms/step\n",
            "Epoch 55/100\n",
            "92/92 - 0s - loss: 0.0028 - 354ms/epoch - 4ms/step\n",
            "Epoch 56/100\n",
            "92/92 - 0s - loss: 0.0028 - 345ms/epoch - 4ms/step\n",
            "Epoch 57/100\n",
            "92/92 - 0s - loss: 0.0028 - 309ms/epoch - 3ms/step\n",
            "Epoch 58/100\n",
            "92/92 - 0s - loss: 0.0027 - 259ms/epoch - 3ms/step\n",
            "Epoch 59/100\n",
            "92/92 - 0s - loss: 0.0027 - 190ms/epoch - 2ms/step\n",
            "Epoch 60/100\n",
            "92/92 - 0s - loss: 0.0027 - 214ms/epoch - 2ms/step\n",
            "Epoch 61/100\n",
            "92/92 - 0s - loss: 0.0026 - 210ms/epoch - 2ms/step\n",
            "Epoch 62/100\n",
            "92/92 - 0s - loss: 0.0026 - 187ms/epoch - 2ms/step\n",
            "Epoch 63/100\n",
            "92/92 - 0s - loss: 0.0026 - 235ms/epoch - 3ms/step\n",
            "Epoch 64/100\n",
            "92/92 - 0s - loss: 0.0026 - 195ms/epoch - 2ms/step\n",
            "Epoch 65/100\n",
            "92/92 - 0s - loss: 0.0027 - 197ms/epoch - 2ms/step\n",
            "Epoch 66/100\n",
            "92/92 - 0s - loss: 0.0025 - 201ms/epoch - 2ms/step\n",
            "Epoch 67/100\n",
            "92/92 - 0s - loss: 0.0025 - 222ms/epoch - 2ms/step\n",
            "Epoch 68/100\n",
            "92/92 - 0s - loss: 0.0025 - 237ms/epoch - 3ms/step\n",
            "Epoch 69/100\n",
            "92/92 - 0s - loss: 0.0024 - 201ms/epoch - 2ms/step\n",
            "Epoch 70/100\n",
            "92/92 - 0s - loss: 0.0025 - 203ms/epoch - 2ms/step\n",
            "Epoch 71/100\n",
            "92/92 - 0s - loss: 0.0024 - 195ms/epoch - 2ms/step\n",
            "Epoch 72/100\n",
            "92/92 - 0s - loss: 0.0024 - 217ms/epoch - 2ms/step\n",
            "Epoch 73/100\n",
            "92/92 - 0s - loss: 0.0025 - 223ms/epoch - 2ms/step\n",
            "Epoch 74/100\n",
            "92/92 - 0s - loss: 0.0024 - 202ms/epoch - 2ms/step\n",
            "Epoch 75/100\n",
            "92/92 - 0s - loss: 0.0024 - 212ms/epoch - 2ms/step\n",
            "Epoch 76/100\n",
            "92/92 - 0s - loss: 0.0024 - 198ms/epoch - 2ms/step\n",
            "Epoch 77/100\n",
            "92/92 - 0s - loss: 0.0024 - 222ms/epoch - 2ms/step\n",
            "Epoch 78/100\n",
            "92/92 - 0s - loss: 0.0024 - 213ms/epoch - 2ms/step\n",
            "Epoch 79/100\n",
            "92/92 - 0s - loss: 0.0023 - 206ms/epoch - 2ms/step\n",
            "Epoch 80/100\n",
            "92/92 - 0s - loss: 0.0024 - 213ms/epoch - 2ms/step\n",
            "Epoch 81/100\n",
            "92/92 - 0s - loss: 0.0023 - 194ms/epoch - 2ms/step\n",
            "Epoch 82/100\n",
            "92/92 - 0s - loss: 0.0023 - 230ms/epoch - 3ms/step\n",
            "Epoch 83/100\n",
            "92/92 - 0s - loss: 0.0023 - 222ms/epoch - 2ms/step\n",
            "Epoch 84/100\n",
            "92/92 - 0s - loss: 0.0023 - 201ms/epoch - 2ms/step\n",
            "Epoch 85/100\n",
            "92/92 - 0s - loss: 0.0022 - 216ms/epoch - 2ms/step\n",
            "Epoch 86/100\n",
            "92/92 - 0s - loss: 0.0022 - 191ms/epoch - 2ms/step\n",
            "Epoch 87/100\n",
            "92/92 - 0s - loss: 0.0022 - 232ms/epoch - 3ms/step\n",
            "Epoch 88/100\n",
            "92/92 - 0s - loss: 0.0022 - 204ms/epoch - 2ms/step\n",
            "Epoch 89/100\n",
            "92/92 - 0s - loss: 0.0021 - 220ms/epoch - 2ms/step\n",
            "Epoch 90/100\n",
            "92/92 - 0s - loss: 0.0022 - 194ms/epoch - 2ms/step\n",
            "Epoch 91/100\n",
            "92/92 - 0s - loss: 0.0022 - 211ms/epoch - 2ms/step\n",
            "Epoch 92/100\n",
            "92/92 - 0s - loss: 0.0022 - 217ms/epoch - 2ms/step\n",
            "Epoch 93/100\n",
            "92/92 - 0s - loss: 0.0021 - 195ms/epoch - 2ms/step\n",
            "Epoch 94/100\n",
            "92/92 - 0s - loss: 0.0022 - 209ms/epoch - 2ms/step\n",
            "Epoch 95/100\n",
            "92/92 - 0s - loss: 0.0021 - 199ms/epoch - 2ms/step\n",
            "Epoch 96/100\n",
            "92/92 - 0s - loss: 0.0020 - 200ms/epoch - 2ms/step\n",
            "Epoch 97/100\n",
            "92/92 - 0s - loss: 0.0021 - 208ms/epoch - 2ms/step\n",
            "Epoch 98/100\n",
            "92/92 - 0s - loss: 0.0021 - 200ms/epoch - 2ms/step\n",
            "Epoch 99/100\n",
            "92/92 - 0s - loss: 0.0021 - 221ms/epoch - 2ms/step\n",
            "Epoch 100/100\n",
            "92/92 - 0s - loss: 0.0020 - 242ms/epoch - 3ms/step\n",
            "3/3 [==============================] - 1s 5ms/step\n",
            "2/2 [==============================] - 0s 14ms/step\n",
            "Train Score: 23.13 RMSE\n",
            "Test Score: 53.18 RMSE\n"
          ]
        },
        {
          "output_type": "display_data",
          "data": {
            "text/plain": [
              "<Figure size 432x288 with 1 Axes>"
            ],
            "image/png": "[encoded data removed]"
          },
          "metadata": {
            "needs_background": "light"
          }
        }
      ]
    },
    {
      "cell_type": "markdown",
      "source": [
        "We can see that the error was increased slightly compared to that of the previous section. The window size and the network architecture were not tuned\n",
        "\n",
        "**Now lets try the time step technique** \n",
        "\n",
        "You may have noticed that the data preparation for the LSTM network includes time steps.\n",
        "\n",
        "\n",
        "Some sequence problems may have a varied number of time steps per sample. For example, you may have measurements of a physical machine leading up to a point of failure or a point of surge. Each incident would be a sample the observations that lead up to the event would be the time steps, and the variables observed would be the features.\n",
        "\n",
        "Time steps provide another way to phrase our time series problem. Like above in the window example, we can take prior time steps in our time series as inputs to predict the output at the next time step.\n",
        "\n",
        "\n",
        "Instead of phrasing the past observations as separate input features, we can use them as time steps of the one input feature, which is indeed a more accurate framing of the problem.\n",
        "\n",
        "\n",
        "We can do this using the same data representation as in the previous window-based example, except when we reshape the data, we set the columns to be the time steps dimension and change the features dimension back to 1"
      ],
      "metadata": {
        "id": "x8lTPrU0EdXT"
      }
    },
    {
      "cell_type": "code",
      "source": [
        "import numpy\n",
        "import matplotlib.pyplot as plt\n",
        "from pandas import read_csv\n",
        "import math\n",
        "from keras.models import Sequential\n",
        "from keras.layers import Dense\n",
        "from keras.layers import LSTM\n",
        "from sklearn.preprocessing import MinMaxScaler\n",
        "from sklearn.metrics import mean_squared_error\n",
        "# convert an array of values into a dataset matrix\n",
        "def create_dataset(dataset, look_back=1):\n",
        "  dataX, dataY = [], []\n",
        "  for i in range(len(dataset)-look_back-1):\n",
        "    a = dataset[i:(i+look_back), 0]\n",
        "    dataX.append(a)\n",
        "    dataY.append(dataset[i + look_back, 0])\n",
        "  return numpy.array(dataX), numpy.array(dataY)\n",
        "# fix random seed for reproducibility\n",
        "numpy.random.seed(7)\n",
        "# load the dataset\n",
        "dataframe = read_csv('/content/international-airline-passengers.csv', usecols=[1], engine='python')\n",
        "dataset = dataframe.values\n",
        "dataset = dataset.astype('float32')\n",
        "# normalize the dataset\n",
        "scaler = MinMaxScaler(feature_range=(0, 1))\n",
        "dataset = scaler.fit_transform(dataset)\n",
        "# split into train and test sets\n",
        "train_size = int(len(dataset) * 0.67)\n",
        "test_size = len(dataset) - train_size\n",
        "train, test = dataset[0:train_size,:], dataset[train_size:len(dataset),:]\n",
        "# reshape into X=t and Y=t+1\n",
        "look_back = 3\n",
        "trainX, trainY = create_dataset(train, look_back)\n",
        "testX, testY = create_dataset(test, look_back)\n",
        "# reshape input to be [samples, time steps, features]\n",
        "trainX = numpy.reshape(trainX, (trainX.shape[0], trainX.shape[1], 1))\n",
        "testX = numpy.reshape(testX, (testX.shape[0], testX.shape[1], 1))\n",
        "# create and fit the LSTM network\n",
        "model = Sequential()\n",
        "model.add(LSTM(4, input_shape=(look_back, 1)))\n",
        "model.add(Dense(1))\n",
        "model.compile(loss='mean_squared_error', optimizer='adam')\n",
        "model.fit(trainX, trainY, epochs=100, batch_size=1, verbose=2)\n",
        "# make predictions\n",
        "trainPredict = model.predict(trainX)\n",
        "testPredict = model.predict(testX)\n",
        "# invert predictions\n",
        "trainPredict = scaler.inverse_transform(trainPredict)\n",
        "trainY = scaler.inverse_transform([trainY])\n",
        "testPredict = scaler.inverse_transform(testPredict)\n",
        "testY = scaler.inverse_transform([testY])\n",
        "# calculate root mean squared error\n",
        "trainScore = math.sqrt(mean_squared_error(trainY[0], trainPredict[:,0]))\n",
        "print('Train Score: %.2f RMSE' % (trainScore))\n",
        "testScore = math.sqrt(mean_squared_error(testY[0], testPredict[:,0]))\n",
        "print('Test Score: %.2f RMSE' % (testScore))\n",
        "# shift train predictions for plotting\n",
        "trainPredictPlot = numpy.empty_like(dataset)\n",
        "trainPredictPlot[:, :] = numpy.nan\n",
        "trainPredictPlot[look_back:len(trainPredict)+look_back, :] = trainPredict\n",
        "# shift test predictions for plotting\n",
        "testPredictPlot = numpy.empty_like(dataset)\n",
        "testPredictPlot[:, :] = numpy.nan\n",
        "testPredictPlot[len(trainPredict)+(look_back*2)+1:len(dataset)-1, :] = testPredict\n",
        "# plot baseline and predictions\n",
        "plt.plot(scaler.inverse_transform(dataset))\n",
        "plt.plot(trainPredictPlot)\n",
        "plt.plot(testPredictPlot)\n",
        "plt.show()\n"
      ],
      "metadata": {
        "colab": {
          "base_uri": "https://localhost:8080/",
          "height": 1000
        },
        "id": "mQ9COweREhEO",
        "outputId": "40b91f3e-24a4-425b-8696-5040bbeba227"
      },
      "execution_count": 16,
      "outputs": [
        {
          "output_type": "stream",
          "name": "stdout",
          "text": [
            "Epoch 1/100\n",
            "92/92 - 4s - loss: 0.0352 - 4s/epoch - 44ms/step\n",
            "Epoch 2/100\n",
            "92/92 - 0s - loss: 0.0135 - 259ms/epoch - 3ms/step\n",
            "Epoch 3/100\n",
            "92/92 - 0s - loss: 0.0111 - 260ms/epoch - 3ms/step\n",
            "Epoch 4/100\n",
            "92/92 - 0s - loss: 0.0094 - 246ms/epoch - 3ms/step\n",
            "Epoch 5/100\n",
            "92/92 - 0s - loss: 0.0078 - 236ms/epoch - 3ms/step\n",
            "Epoch 6/100\n",
            "92/92 - 0s - loss: 0.0067 - 248ms/epoch - 3ms/step\n",
            "Epoch 7/100\n",
            "92/92 - 0s - loss: 0.0059 - 232ms/epoch - 3ms/step\n",
            "Epoch 8/100\n",
            "92/92 - 0s - loss: 0.0052 - 246ms/epoch - 3ms/step\n",
            "Epoch 9/100\n",
            "92/92 - 0s - loss: 0.0047 - 264ms/epoch - 3ms/step\n",
            "Epoch 10/100\n",
            "92/92 - 0s - loss: 0.0045 - 299ms/epoch - 3ms/step\n",
            "Epoch 11/100\n",
            "92/92 - 0s - loss: 0.0043 - 274ms/epoch - 3ms/step\n",
            "Epoch 12/100\n",
            "92/92 - 0s - loss: 0.0040 - 260ms/epoch - 3ms/step\n",
            "Epoch 13/100\n",
            "92/92 - 0s - loss: 0.0042 - 283ms/epoch - 3ms/step\n",
            "Epoch 14/100\n",
            "92/92 - 0s - loss: 0.0040 - 254ms/epoch - 3ms/step\n",
            "Epoch 15/100\n",
            "92/92 - 0s - loss: 0.0040 - 257ms/epoch - 3ms/step\n",
            "Epoch 16/100\n",
            "92/92 - 0s - loss: 0.0040 - 262ms/epoch - 3ms/step\n",
            "Epoch 17/100\n",
            "92/92 - 0s - loss: 0.0040 - 266ms/epoch - 3ms/step\n",
            "Epoch 18/100\n",
            "92/92 - 0s - loss: 0.0040 - 261ms/epoch - 3ms/step\n",
            "Epoch 19/100\n",
            "92/92 - 0s - loss: 0.0040 - 256ms/epoch - 3ms/step\n",
            "Epoch 20/100\n",
            "92/92 - 0s - loss: 0.0039 - 434ms/epoch - 5ms/step\n",
            "Epoch 21/100\n",
            "92/92 - 0s - loss: 0.0041 - 369ms/epoch - 4ms/step\n",
            "Epoch 22/100\n",
            "92/92 - 0s - loss: 0.0039 - 393ms/epoch - 4ms/step\n",
            "Epoch 23/100\n",
            "92/92 - 0s - loss: 0.0039 - 395ms/epoch - 4ms/step\n",
            "Epoch 24/100\n",
            "92/92 - 0s - loss: 0.0038 - 369ms/epoch - 4ms/step\n",
            "Epoch 25/100\n",
            "92/92 - 0s - loss: 0.0039 - 380ms/epoch - 4ms/step\n",
            "Epoch 26/100\n",
            "92/92 - 0s - loss: 0.0037 - 367ms/epoch - 4ms/step\n",
            "Epoch 27/100\n",
            "92/92 - 0s - loss: 0.0039 - 239ms/epoch - 3ms/step\n",
            "Epoch 28/100\n",
            "92/92 - 0s - loss: 0.0037 - 240ms/epoch - 3ms/step\n",
            "Epoch 29/100\n",
            "92/92 - 0s - loss: 0.0037 - 247ms/epoch - 3ms/step\n",
            "Epoch 30/100\n",
            "92/92 - 0s - loss: 0.0037 - 254ms/epoch - 3ms/step\n",
            "Epoch 31/100\n",
            "92/92 - 0s - loss: 0.0038 - 252ms/epoch - 3ms/step\n",
            "Epoch 32/100\n",
            "92/92 - 0s - loss: 0.0037 - 221ms/epoch - 2ms/step\n",
            "Epoch 33/100\n",
            "92/92 - 0s - loss: 0.0037 - 238ms/epoch - 3ms/step\n",
            "Epoch 34/100\n",
            "92/92 - 0s - loss: 0.0039 - 263ms/epoch - 3ms/step\n",
            "Epoch 35/100\n",
            "92/92 - 0s - loss: 0.0036 - 219ms/epoch - 2ms/step\n",
            "Epoch 36/100\n",
            "92/92 - 0s - loss: 0.0036 - 252ms/epoch - 3ms/step\n",
            "Epoch 37/100\n",
            "92/92 - 0s - loss: 0.0036 - 244ms/epoch - 3ms/step\n",
            "Epoch 38/100\n",
            "92/92 - 0s - loss: 0.0037 - 260ms/epoch - 3ms/step\n",
            "Epoch 39/100\n",
            "92/92 - 0s - loss: 0.0036 - 489ms/epoch - 5ms/step\n",
            "Epoch 40/100\n",
            "92/92 - 0s - loss: 0.0036 - 438ms/epoch - 5ms/step\n",
            "Epoch 41/100\n",
            "92/92 - 0s - loss: 0.0036 - 400ms/epoch - 4ms/step\n",
            "Epoch 42/100\n",
            "92/92 - 0s - loss: 0.0036 - 398ms/epoch - 4ms/step\n",
            "Epoch 43/100\n",
            "92/92 - 0s - loss: 0.0034 - 441ms/epoch - 5ms/step\n",
            "Epoch 44/100\n",
            "92/92 - 0s - loss: 0.0036 - 279ms/epoch - 3ms/step\n",
            "Epoch 45/100\n",
            "92/92 - 0s - loss: 0.0035 - 238ms/epoch - 3ms/step\n",
            "Epoch 46/100\n",
            "92/92 - 0s - loss: 0.0035 - 289ms/epoch - 3ms/step\n",
            "Epoch 47/100\n",
            "92/92 - 0s - loss: 0.0034 - 241ms/epoch - 3ms/step\n",
            "Epoch 48/100\n",
            "92/92 - 0s - loss: 0.0035 - 244ms/epoch - 3ms/step\n",
            "Epoch 49/100\n",
            "92/92 - 0s - loss: 0.0036 - 257ms/epoch - 3ms/step\n",
            "Epoch 50/100\n",
            "92/92 - 0s - loss: 0.0034 - 253ms/epoch - 3ms/step\n",
            "Epoch 51/100\n",
            "92/92 - 0s - loss: 0.0035 - 235ms/epoch - 3ms/step\n",
            "Epoch 52/100\n",
            "92/92 - 0s - loss: 0.0034 - 270ms/epoch - 3ms/step\n",
            "Epoch 53/100\n",
            "92/92 - 0s - loss: 0.0033 - 248ms/epoch - 3ms/step\n",
            "Epoch 54/100\n",
            "92/92 - 0s - loss: 0.0035 - 293ms/epoch - 3ms/step\n",
            "Epoch 55/100\n",
            "92/92 - 0s - loss: 0.0034 - 251ms/epoch - 3ms/step\n",
            "Epoch 56/100\n",
            "92/92 - 0s - loss: 0.0034 - 266ms/epoch - 3ms/step\n",
            "Epoch 57/100\n",
            "92/92 - 0s - loss: 0.0033 - 239ms/epoch - 3ms/step\n",
            "Epoch 58/100\n",
            "92/92 - 0s - loss: 0.0034 - 266ms/epoch - 3ms/step\n",
            "Epoch 59/100\n",
            "92/92 - 0s - loss: 0.0034 - 238ms/epoch - 3ms/step\n",
            "Epoch 60/100\n",
            "92/92 - 0s - loss: 0.0032 - 236ms/epoch - 3ms/step\n",
            "Epoch 61/100\n",
            "92/92 - 0s - loss: 0.0034 - 297ms/epoch - 3ms/step\n",
            "Epoch 62/100\n",
            "92/92 - 0s - loss: 0.0034 - 387ms/epoch - 4ms/step\n",
            "Epoch 63/100\n",
            "92/92 - 0s - loss: 0.0033 - 377ms/epoch - 4ms/step\n",
            "Epoch 64/100\n",
            "92/92 - 0s - loss: 0.0032 - 378ms/epoch - 4ms/step\n",
            "Epoch 65/100\n",
            "92/92 - 0s - loss: 0.0033 - 423ms/epoch - 5ms/step\n",
            "Epoch 66/100\n",
            "92/92 - 0s - loss: 0.0033 - 385ms/epoch - 4ms/step\n",
            "Epoch 67/100\n",
            "92/92 - 0s - loss: 0.0032 - 405ms/epoch - 4ms/step\n",
            "Epoch 68/100\n",
            "92/92 - 0s - loss: 0.0032 - 373ms/epoch - 4ms/step\n",
            "Epoch 69/100\n",
            "92/92 - 0s - loss: 0.0032 - 258ms/epoch - 3ms/step\n",
            "Epoch 70/100\n",
            "92/92 - 0s - loss: 0.0032 - 256ms/epoch - 3ms/step\n",
            "Epoch 71/100\n",
            "92/92 - 0s - loss: 0.0031 - 258ms/epoch - 3ms/step\n",
            "Epoch 72/100\n",
            "92/92 - 0s - loss: 0.0033 - 238ms/epoch - 3ms/step\n",
            "Epoch 73/100\n",
            "92/92 - 0s - loss: 0.0031 - 267ms/epoch - 3ms/step\n",
            "Epoch 74/100\n",
            "92/92 - 0s - loss: 0.0031 - 244ms/epoch - 3ms/step\n",
            "Epoch 75/100\n",
            "92/92 - 0s - loss: 0.0031 - 243ms/epoch - 3ms/step\n",
            "Epoch 76/100\n",
            "92/92 - 0s - loss: 0.0032 - 261ms/epoch - 3ms/step\n",
            "Epoch 77/100\n",
            "92/92 - 0s - loss: 0.0031 - 261ms/epoch - 3ms/step\n",
            "Epoch 78/100\n",
            "92/92 - 0s - loss: 0.0031 - 265ms/epoch - 3ms/step\n",
            "Epoch 79/100\n",
            "92/92 - 0s - loss: 0.0030 - 252ms/epoch - 3ms/step\n",
            "Epoch 80/100\n",
            "92/92 - 0s - loss: 0.0030 - 226ms/epoch - 2ms/step\n",
            "Epoch 81/100\n",
            "92/92 - 0s - loss: 0.0030 - 261ms/epoch - 3ms/step\n",
            "Epoch 82/100\n",
            "92/92 - 0s - loss: 0.0030 - 255ms/epoch - 3ms/step\n",
            "Epoch 83/100\n",
            "92/92 - 0s - loss: 0.0031 - 246ms/epoch - 3ms/step\n",
            "Epoch 84/100\n",
            "92/92 - 0s - loss: 0.0031 - 236ms/epoch - 3ms/step\n",
            "Epoch 85/100\n",
            "92/92 - 0s - loss: 0.0032 - 249ms/epoch - 3ms/step\n",
            "Epoch 86/100\n",
            "92/92 - 0s - loss: 0.0030 - 267ms/epoch - 3ms/step\n",
            "Epoch 87/100\n",
            "92/92 - 0s - loss: 0.0029 - 264ms/epoch - 3ms/step\n",
            "Epoch 88/100\n",
            "92/92 - 0s - loss: 0.0030 - 252ms/epoch - 3ms/step\n",
            "Epoch 89/100\n",
            "92/92 - 0s - loss: 0.0030 - 258ms/epoch - 3ms/step\n",
            "Epoch 90/100\n",
            "92/92 - 0s - loss: 0.0029 - 259ms/epoch - 3ms/step\n",
            "Epoch 91/100\n",
            "92/92 - 0s - loss: 0.0029 - 246ms/epoch - 3ms/step\n",
            "Epoch 92/100\n",
            "92/92 - 0s - loss: 0.0030 - 234ms/epoch - 3ms/step\n",
            "Epoch 93/100\n",
            "92/92 - 0s - loss: 0.0029 - 247ms/epoch - 3ms/step\n",
            "Epoch 94/100\n",
            "92/92 - 0s - loss: 0.0029 - 253ms/epoch - 3ms/step\n",
            "Epoch 95/100\n",
            "92/92 - 0s - loss: 0.0030 - 249ms/epoch - 3ms/step\n",
            "Epoch 96/100\n",
            "92/92 - 0s - loss: 0.0028 - 222ms/epoch - 2ms/step\n",
            "Epoch 97/100\n",
            "92/92 - 0s - loss: 0.0028 - 247ms/epoch - 3ms/step\n",
            "Epoch 98/100\n",
            "92/92 - 0s - loss: 0.0027 - 264ms/epoch - 3ms/step\n",
            "Epoch 99/100\n",
            "92/92 - 0s - loss: 0.0029 - 246ms/epoch - 3ms/step\n",
            "Epoch 100/100\n",
            "92/92 - 0s - loss: 0.0028 - 252ms/epoch - 3ms/step\n",
            "3/3 [==============================] - 1s 5ms/step\n",
            "2/2 [==============================] - 0s 10ms/step\n",
            "Train Score: 27.05 RMSE\n",
            "Test Score: 59.57 RMSE\n"
          ]
        },
        {
          "output_type": "display_data",
          "data": {
            "text/plain": [
              "<Figure size 432x288 with 1 Axes>"
            ],
            "image/png": "[encoded data removed]"
          },
          "metadata": {
            "needs_background": "light"
          }
        }
      ]
    },
    {
      "cell_type": "markdown",
      "source": [
        "The time steps technique is better than the technique of  window method\n",
        "\n",
        "We can use time series in such situations like weather forecasting, stock Market Forecasting."
      ],
      "metadata": {
        "id": "I3BB7dKjzWTA"
      }
    }
  ]
}